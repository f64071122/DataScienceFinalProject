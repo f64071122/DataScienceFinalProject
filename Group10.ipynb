{
 "cells": [
  {
   "cell_type": "code",
   "execution_count": 1,
   "id": "699a3aaa",
   "metadata": {},
   "outputs": [],
   "source": [
    "import pandas as pd\n",
    "import matplotlib.pyplot as plt\n",
    "import seaborn as sns\n",
    "import numpy as np"
   ]
  },
  {
   "cell_type": "code",
   "execution_count": 2,
   "id": "a921682e",
   "metadata": {},
   "outputs": [],
   "source": [
    "df=pd.read_csv(r\"C:\\Users\\linti\\Desktop\\統計\\資料分析\\期末資料\\原始資料\\110年-臺北市A1及A2類交通事故明細_utf8.csv\", encoding='utf8')\n",
    "# Data Source: https://data.taipei/dataset/detail?id=2f238b4f-1b27-4085-93e9-d684ef0e2735"
   ]
  },
  {
   "cell_type": "code",
   "execution_count": 3,
   "id": "457c07fa",
   "metadata": {
    "scrolled": true
   },
   "outputs": [
    {
     "name": "stdout",
     "output_type": "stream",
     "text": [
      "<class 'pandas.core.frame.DataFrame'>\n",
      "RangeIndex: 55366 entries, 0 to 55365\n",
      "Data columns (total 55 columns):\n",
      " #   Column      Non-Null Count  Dtype  \n",
      "---  ------      --------------  -----  \n",
      " 0   發生年         55366 non-null  int64  \n",
      " 1   發生月         55366 non-null  int64  \n",
      " 2   發生日         55366 non-null  int64  \n",
      " 3   發生時         55366 non-null  int64  \n",
      " 4   發生分         55366 non-null  int64  \n",
      " 5   處理別         55366 non-null  int64  \n",
      " 6   區序          55366 non-null  object \n",
      " 7   肇事地點        55366 non-null  object \n",
      " 8   死亡人數        55366 non-null  int64  \n",
      " 9   2-30日死亡人數   55366 non-null  int64  \n",
      " 10  受傷人數        55366 non-null  int64  \n",
      " 11  當事人序        55366 non-null  int64  \n",
      " 12  車種          54109 non-null  object \n",
      " 13  天候          55366 non-null  int64  \n",
      " 14  光線          55366 non-null  int64  \n",
      " 15  道路類別        55366 non-null  int64  \n",
      " 16  速限          55366 non-null  int64  \n",
      " 17  道路型態        55366 non-null  int64  \n",
      " 18  事故位置        55366 non-null  int64  \n",
      " 19  路面狀況1       55366 non-null  int64  \n",
      " 20  路面狀況2       55366 non-null  int64  \n",
      " 21  路面狀況3       55366 non-null  int64  \n",
      " 22  道路障礙1       55366 non-null  int64  \n",
      " 23  道路障礙2       55366 non-null  int64  \n",
      " 24  號誌1         55366 non-null  int64  \n",
      " 25  號誌2         55366 non-null  int64  \n",
      " 26  車道劃分-分向     55366 non-null  int64  \n",
      " 27  車道劃分-分道1    55366 non-null  int64  \n",
      " 28  車道劃分-分道2    55366 non-null  int64  \n",
      " 29  車道劃分-分道3    55366 non-null  int64  \n",
      " 30  事故類型及型態     55366 non-null  int64  \n",
      " 31  性別          55366 non-null  int64  \n",
      " 32  年齡          53484 non-null  float64\n",
      " 33  受傷程度        54039 non-null  float64\n",
      " 34  主要傷處        54039 non-null  float64\n",
      " 35  保護裝置        54039 non-null  float64\n",
      " 36  行動電話        54039 non-null  float64\n",
      " 37  車輛用途        54039 non-null  float64\n",
      " 38  當事者行動狀態     54044 non-null  float64\n",
      " 39  駕駛資格情形      54039 non-null  float64\n",
      " 40  駕駛執照種類      54039 non-null  float64\n",
      " 41  飲酒情形        54039 non-null  float64\n",
      " 42  車輛撞擊部位1     54039 non-null  float64\n",
      " 43  車輛撞擊部位2     336 non-null    float64\n",
      " 44  肇因碼-個別      55363 non-null  float64\n",
      " 45  肇因碼-主要      55366 non-null  int64  \n",
      " 46  個人肇逃否       55273 non-null  float64\n",
      " 47  職業          54045 non-null  float64\n",
      " 48  旅次目的        54045 non-null  float64\n",
      " 49  X           55366 non-null  float64\n",
      " 50  Y           55366 non-null  float64\n",
      " 51  Density_20  55366 non-null  float64\n",
      " 52  Density_30  55366 non-null  float64\n",
      " 53  Density_40  55366 non-null  float64\n",
      " 54  Density_50  55366 non-null  float64\n",
      "dtypes: float64(22), int64(30), object(3)\n",
      "memory usage: 23.2+ MB\n"
     ]
    }
   ],
   "source": [
    "df.info()"
   ]
  },
  {
   "cell_type": "code",
   "execution_count": 4,
   "id": "1bd3a266",
   "metadata": {},
   "outputs": [],
   "source": [
    "a=[\"天候\",\"光線\",\"道路型態\",\"路面狀況2\",\"號誌2\",\"車道劃分-分道2\",\"事故類型及型態\",\"主要傷處\",\"駕駛資格情形\",\"車輛撞擊部位1\",\"受傷程度\"]\n",
    "df=df[a]\n"
   ]
  },
  {
   "cell_type": "markdown",
   "id": "daec3cd9",
   "metadata": {},
   "source": [
    "### missing value issue"
   ]
  },
  {
   "cell_type": "code",
   "execution_count": 5,
   "id": "77ef23a3",
   "metadata": {},
   "outputs": [],
   "source": [
    "df.dropna(inplace=True)"
   ]
  },
  {
   "cell_type": "code",
   "execution_count": 6,
   "id": "4442b590",
   "metadata": {},
   "outputs": [],
   "source": [
    "df=df[df[\"受傷程度\"]!=4]\n"
   ]
  },
  {
   "cell_type": "code",
   "execution_count": 7,
   "id": "fca678c9",
   "metadata": {},
   "outputs": [
    {
     "data": {
      "text/plain": [
       "2.0    32191\n",
       "3.0    20341\n",
       "1.0       71\n",
       "5.0       24\n",
       "Name: 受傷程度, dtype: int64"
      ]
     },
     "execution_count": 7,
     "metadata": {},
     "output_type": "execute_result"
    }
   ],
   "source": [
    "df[\"受傷程度\"].value_counts()"
   ]
  },
  {
   "cell_type": "code",
   "execution_count": 8,
   "id": "b8b7d30a",
   "metadata": {},
   "outputs": [],
   "source": [
    "df[\"受傷程度\"]=df[\"受傷程度\"].map({3:0,2:1,5:2,1:2})"
   ]
  },
  {
   "cell_type": "code",
   "execution_count": 9,
   "id": "150a1f3c",
   "metadata": {
    "scrolled": false
   },
   "outputs": [
    {
     "data": {
      "text/plain": [
       "1    32191\n",
       "0    20341\n",
       "2       95\n",
       "Name: 受傷程度, dtype: int64"
      ]
     },
     "execution_count": 9,
     "metadata": {},
     "output_type": "execute_result"
    }
   ],
   "source": [
    "df[\"受傷程度\"].value_counts()"
   ]
  },
  {
   "cell_type": "code",
   "execution_count": 10,
   "id": "a247c125",
   "metadata": {
    "scrolled": false
   },
   "outputs": [
    {
     "name": "stderr",
     "output_type": "stream",
     "text": [
      "c:\\Users\\linti\\anaconda3\\lib\\site-packages\\seaborn\\_decorators.py:36: FutureWarning: Pass the following variable as a keyword arg: x. From version 0.12, the only valid positional argument will be `data`, and passing other arguments without an explicit keyword will result in an error or misinterpretation.\n",
      "  warnings.warn(\n"
     ]
    },
    {
     "data": {
      "image/png": "[encoded data removed]",
      "text/plain": [
       "<Figure size 640x480 with 1 Axes>"
      ]
     },
     "metadata": {},
     "output_type": "display_data"
    }
   ],
   "source": [
    "sns.countplot(df[df[\"受傷程度\"]==0][\"天候\"],data=df)\n",
    "plt.xlabel(\"Hours\")\n",
    "plt.ylabel(\"Injuries\")\n",
    "plt.show()"
   ]
  },
  {
   "cell_type": "code",
   "execution_count": 11,
   "id": "2674854c",
   "metadata": {},
   "outputs": [
    {
     "data": {
      "text/plain": [
       "天候          0\n",
       "光線          0\n",
       "道路型態        0\n",
       "路面狀況2       0\n",
       "號誌2         0\n",
       "車道劃分-分道2    0\n",
       "事故類型及型態     0\n",
       "主要傷處        0\n",
       "駕駛資格情形      0\n",
       "車輛撞擊部位1     0\n",
       "受傷程度        0\n",
       "dtype: int64"
      ]
     },
     "execution_count": 11,
     "metadata": {},
     "output_type": "execute_result"
    }
   ],
   "source": [
    "df.isnull().sum()"
   ]
  },
  {
   "cell_type": "code",
   "execution_count": 12,
   "id": "fe8339b9",
   "metadata": {},
   "outputs": [
    {
     "data": {
      "text/plain": [
       "1    32191\n",
       "0    20341\n",
       "2       95\n",
       "Name: 受傷程度, dtype: int64"
      ]
     },
     "execution_count": 12,
     "metadata": {},
     "output_type": "execute_result"
    }
   ],
   "source": [
    "df[\"受傷程度\"].value_counts()"
   ]
  },
  {
   "cell_type": "code",
   "execution_count": 13,
   "id": "e4abb493",
   "metadata": {},
   "outputs": [
    {
     "data": {
      "text/plain": [
       "8    36510\n",
       "7     8975\n",
       "6     7112\n",
       "1       29\n",
       "2        1\n",
       "Name: 天候, dtype: int64"
      ]
     },
     "execution_count": 13,
     "metadata": {},
     "output_type": "execute_result"
    }
   ],
   "source": [
    "df[\"天候\"].value_counts()"
   ]
  },
  {
   "cell_type": "code",
   "execution_count": 14,
   "id": "e97f9331",
   "metadata": {},
   "outputs": [],
   "source": [
    "df[\"天候\"]=df[\"天候\"].map({8:1,7:2,6:3,1:4,2:4})"
   ]
  },
  {
   "cell_type": "code",
   "execution_count": 15,
   "id": "bd845172",
   "metadata": {},
   "outputs": [
    {
     "data": {
      "text/plain": [
       "1    36401\n",
       "3    15312\n",
       "2      817\n",
       "4       97\n",
       "Name: 光線, dtype: int64"
      ]
     },
     "execution_count": 15,
     "metadata": {},
     "output_type": "execute_result"
    }
   ],
   "source": [
    "df[\"光線\"].value_counts()"
   ]
  },
  {
   "cell_type": "code",
   "execution_count": 16,
   "id": "679ffd9f",
   "metadata": {},
   "outputs": [],
   "source": [
    "df[\"光線\"]=df[\"光線\"].map({1:1,3:2,2:3,4:3})"
   ]
  },
  {
   "cell_type": "code",
   "execution_count": 17,
   "id": "7c0e7832",
   "metadata": {
    "scrolled": true
   },
   "outputs": [
    {
     "data": {
      "text/plain": [
       "4     18980\n",
       "14    18538\n",
       "3     10187\n",
       "5      1968\n",
       "15     1069\n",
       "11      696\n",
       "8       482\n",
       "10      274\n",
       "16      151\n",
       "13      126\n",
       "7        58\n",
       "6        49\n",
       "12       41\n",
       "9         6\n",
       "17        2\n",
       "Name: 道路型態, dtype: int64"
      ]
     },
     "execution_count": 17,
     "metadata": {},
     "output_type": "execute_result"
    }
   ],
   "source": [
    "df[\"道路型態\"].value_counts()"
   ]
  },
  {
   "cell_type": "code",
   "execution_count": 18,
   "id": "76e2f460",
   "metadata": {},
   "outputs": [],
   "source": [
    "df[\"道路型態\"]=df[\"道路型態\"].map({4:1,14:2,3:3,5:4,15:4,11:4,8:4,10:4,16:4,13:4,7:4,6:4,12:4,9:4,17:4})"
   ]
  },
  {
   "cell_type": "code",
   "execution_count": 19,
   "id": "a28ec5a5",
   "metadata": {},
   "outputs": [
    {
     "data": {
      "text/plain": [
       "5    44410\n",
       "4     8114\n",
       "2       67\n",
       "3       36\n",
       "Name: 路面狀況2, dtype: int64"
      ]
     },
     "execution_count": 19,
     "metadata": {},
     "output_type": "execute_result"
    }
   ],
   "source": [
    "df[\"路面狀況2\"].value_counts()"
   ]
  },
  {
   "cell_type": "code",
   "execution_count": 20,
   "id": "290ce9d9",
   "metadata": {},
   "outputs": [],
   "source": [
    "df[\"路面狀況2\"]=df[\"路面狀況2\"].map({5:1,4:2,2:2,3:2})"
   ]
  },
  {
   "cell_type": "code",
   "execution_count": 21,
   "id": "55166788",
   "metadata": {},
   "outputs": [
    {
     "data": {
      "text/plain": [
       "4    29391\n",
       "1    23154\n",
       "3       55\n",
       "2       27\n",
       "Name: 號誌2, dtype: int64"
      ]
     },
     "execution_count": 21,
     "metadata": {},
     "output_type": "execute_result"
    }
   ],
   "source": [
    "df[\"號誌2\"].value_counts()"
   ]
  },
  {
   "cell_type": "code",
   "execution_count": 22,
   "id": "ca559004",
   "metadata": {},
   "outputs": [],
   "source": [
    "df[\"號誌2\"]=df[\"號誌2\"].map({4:1,1:2,3:1,2:1})"
   ]
  },
  {
   "cell_type": "code",
   "execution_count": 23,
   "id": "7636af5f",
   "metadata": {},
   "outputs": [
    {
     "data": {
      "text/plain": [
       "5    45307\n",
       "4     5652\n",
       "1     1337\n",
       "3      249\n",
       "2       82\n",
       "Name: 車道劃分-分道2, dtype: int64"
      ]
     },
     "execution_count": 23,
     "metadata": {},
     "output_type": "execute_result"
    }
   ],
   "source": [
    "df[\"車道劃分-分道2\"].value_counts()"
   ]
  },
  {
   "cell_type": "code",
   "execution_count": 24,
   "id": "6815c239",
   "metadata": {},
   "outputs": [],
   "source": [
    "df[\"車道劃分-分道2\"]=df[\"車道劃分-分道2\"].map({5:1,4:2,1:2,3:2,2:2})"
   ]
  },
  {
   "cell_type": "code",
   "execution_count": 25,
   "id": "e4419409",
   "metadata": {},
   "outputs": [
    {
     "data": {
      "text/plain": [
       "9.0     21868\n",
       "10.0    20341\n",
       "8.0      5753\n",
       "7.0      2826\n",
       "1.0       779\n",
       "5.0       309\n",
       "3.0       269\n",
       "6.0       206\n",
       "2.0       200\n",
       "4.0        76\n",
       "Name: 主要傷處, dtype: int64"
      ]
     },
     "execution_count": 25,
     "metadata": {},
     "output_type": "execute_result"
    }
   ],
   "source": [
    "df[\"主要傷處\"].value_counts()"
   ]
  },
  {
   "cell_type": "code",
   "execution_count": 26,
   "id": "16da11ed",
   "metadata": {},
   "outputs": [],
   "source": [
    "df[\"主要傷處\"]=df[\"主要傷處\"].map({9:1,8:2,1:4,2:3,3:3,4:3,5:3,6:3,7:3,10:3})"
   ]
  },
  {
   "cell_type": "code",
   "execution_count": 27,
   "id": "99555b7a",
   "metadata": {},
   "outputs": [
    {
     "data": {
      "text/plain": [
       "1.0    43644\n",
       "8.0     6923\n",
       "3.0      773\n",
       "6.0      563\n",
       "4.0      339\n",
       "2.0      205\n",
       "7.0      149\n",
       "5.0       31\n",
       "Name: 駕駛資格情形, dtype: int64"
      ]
     },
     "execution_count": 27,
     "metadata": {},
     "output_type": "execute_result"
    }
   ],
   "source": [
    "df[\"駕駛資格情形\"].value_counts()"
   ]
  },
  {
   "cell_type": "code",
   "execution_count": 28,
   "id": "6054602c",
   "metadata": {},
   "outputs": [],
   "source": [
    "df[\"駕駛資格情形\"]=df[\"駕駛資格情形\"].map({1:1,8:2,3:3,6:3,4:3,2:3,7:3,5:3})"
   ]
  },
  {
   "cell_type": "code",
   "execution_count": 29,
   "id": "9d488ab6",
   "metadata": {},
   "outputs": [
    {
     "data": {
      "text/plain": [
       "11.0    11681\n",
       "14.0     7115\n",
       "16.0     6320\n",
       "12.0     6024\n",
       "15.0     3869\n",
       "13.0     2900\n",
       "1.0      2569\n",
       "2.0      2565\n",
       "5.0      2336\n",
       "8.0      2164\n",
       "4.0      1785\n",
       "6.0      1213\n",
       "3.0      1116\n",
       "7.0       937\n",
       "10.0       29\n",
       "9.0         4\n",
       "Name: 車輛撞擊部位1, dtype: int64"
      ]
     },
     "execution_count": 29,
     "metadata": {},
     "output_type": "execute_result"
    }
   ],
   "source": [
    "df[\"車輛撞擊部位1\"].value_counts()"
   ]
  },
  {
   "cell_type": "code",
   "execution_count": 30,
   "id": "313c83aa",
   "metadata": {},
   "outputs": [],
   "source": [
    "df[\"車輛撞擊部位1\"]=df[\"車輛撞擊部位1\"].map({11:1,14:2,16:3,12:4,15:5,13:5,1:5,2:5,5:5,8:5,4:5,6:5,3:5,7:5,10:5,9:5})"
   ]
  },
  {
   "cell_type": "code",
   "execution_count": 31,
   "id": "7860f503",
   "metadata": {},
   "outputs": [
    {
     "data": {
      "text/plain": [
       "5    21487\n",
       "1    11681\n",
       "2     7115\n",
       "3     6320\n",
       "4     6024\n",
       "Name: 車輛撞擊部位1, dtype: int64"
      ]
     },
     "execution_count": 31,
     "metadata": {},
     "output_type": "execute_result"
    }
   ],
   "source": [
    "df[\"車輛撞擊部位1\"].value_counts()"
   ]
  },
  {
   "cell_type": "code",
   "execution_count": 32,
   "id": "6c8e0452",
   "metadata": {},
   "outputs": [
    {
     "data": {
      "text/plain": [
       "17    13730\n",
       "16    11572\n",
       "12     8589\n",
       "13     6805\n",
       "15     4280\n",
       "3      2029\n",
       "11     1672\n",
       "9      1418\n",
       "18      627\n",
       "2       445\n",
       "10      326\n",
       "1       278\n",
       "29      258\n",
       "14      180\n",
       "6        78\n",
       "8        62\n",
       "20       60\n",
       "7        36\n",
       "23       32\n",
       "26       29\n",
       "27       25\n",
       "5        24\n",
       "21       17\n",
       "25       16\n",
       "28       15\n",
       "24       13\n",
       "19        9\n",
       "4         2\n",
       "Name: 事故類型及型態, dtype: int64"
      ]
     },
     "execution_count": 32,
     "metadata": {},
     "output_type": "execute_result"
    }
   ],
   "source": [
    "df[\"事故類型及型態\"].value_counts()"
   ]
  },
  {
   "cell_type": "code",
   "execution_count": 33,
   "id": "47a9588f",
   "metadata": {},
   "outputs": [],
   "source": [
    "df[\"事故類型及型態\"]=df[\"事故類型及型態\"].map({17:1,16:2,12:3,13:4,15:5,3:6,11:1,9:1,18:1,29:1,2:1,10:1,1:1,14:1,20:1,6:1,23:1,8:1,26:1,27:1,7:1,21:1,25:1,28:1,24:1,5:1,19:1,4:1})"
   ]
  },
  {
   "cell_type": "code",
   "execution_count": 34,
   "id": "e2e8138d",
   "metadata": {
    "scrolled": false
   },
   "outputs": [
    {
     "data": {
      "text/plain": [
       "1    19352\n",
       "2    11572\n",
       "3     8589\n",
       "4     6805\n",
       "5     4280\n",
       "6     2029\n",
       "Name: 事故類型及型態, dtype: int64"
      ]
     },
     "execution_count": 34,
     "metadata": {},
     "output_type": "execute_result"
    }
   ],
   "source": [
    "df[\"事故類型及型態\"].value_counts()"
   ]
  },
  {
   "cell_type": "code",
   "execution_count": 35,
   "id": "ae11804f",
   "metadata": {
    "scrolled": true
   },
   "outputs": [
    {
     "name": "stderr",
     "output_type": "stream",
     "text": [
      "c:\\Users\\linti\\anaconda3\\lib\\site-packages\\seaborn\\_decorators.py:36: FutureWarning: Pass the following variable as a keyword arg: x. From version 0.12, the only valid positional argument will be `data`, and passing other arguments without an explicit keyword will result in an error or misinterpretation.\n",
      "  warnings.warn(\n"
     ]
    },
    {
     "data": {
      "image/png": "[encoded data removed]",
      "text/plain": [
       "<Figure size 640x480 with 1 Axes>"
      ]
     },
     "metadata": {},
     "output_type": "display_data"
    }
   ],
   "source": [
    "sns.countplot(df[df[\"受傷程度\"]==1][\"道路型態\"],data=df)\n",
    "plt.xlabel(\"Hours\")\n",
    "plt.ylabel(\"Injuries\")\n",
    "plt.show()"
   ]
  },
  {
   "cell_type": "code",
   "execution_count": 36,
   "id": "82ce763e",
   "metadata": {},
   "outputs": [],
   "source": [
    "y=df[\"受傷程度\"]\n",
    "a=[\"天候\",\"光線\",\"道路型態\",\"路面狀況2\",\"號誌2\",\"車道劃分-分道2\",\"事故類型及型態\",\"主要傷處\",\"駕駛資格情形\",\"車輛撞擊部位1\"]\n",
    "df=df[a]"
   ]
  },
  {
   "cell_type": "markdown",
   "id": "2eda3bdb",
   "metadata": {},
   "source": [
    "### oversampling"
   ]
  },
  {
   "cell_type": "code",
   "execution_count": 37,
   "id": "a9f3acd6",
   "metadata": {},
   "outputs": [],
   "source": [
    "from imblearn.over_sampling import BorderlineSMOTE\n",
    "bsmote = BorderlineSMOTE()\n",
    "df3, y1 = bsmote.fit_resample(df, y)"
   ]
  },
  {
   "cell_type": "code",
   "execution_count": 38,
   "id": "afd410f4",
   "metadata": {},
   "outputs": [],
   "source": [
    "from sklearn.utils import shuffle\n",
    "df3,y1=shuffle(df3,y1)\n"
   ]
  },
  {
   "cell_type": "code",
   "execution_count": 39,
   "id": "de3781fc",
   "metadata": {},
   "outputs": [],
   "source": [
    "data_dum=pd.get_dummies(df3)\n",
    "df1=pd.DataFrame(data_dum)"
   ]
  },
  {
   "cell_type": "code",
   "execution_count": 40,
   "id": "84af616b",
   "metadata": {},
   "outputs": [],
   "source": [
    "from sklearn.model_selection import train_test_split\n",
    "from sklearn.metrics import accuracy_score,precision_score,confusion_matrix"
   ]
  },
  {
   "cell_type": "code",
   "execution_count": 41,
   "id": "a30d003b",
   "metadata": {},
   "outputs": [],
   "source": [
    "from sklearn.linear_model import LogisticRegression\n",
    "from sklearn import tree"
   ]
  },
  {
   "cell_type": "code",
   "execution_count": 42,
   "id": "d2ab13b5",
   "metadata": {},
   "outputs": [],
   "source": [
    "df3=df3.reset_index().drop(\"index\",axis=1)"
   ]
  },
  {
   "cell_type": "code",
   "execution_count": 43,
   "id": "1697f151",
   "metadata": {},
   "outputs": [],
   "source": [
    "y1=y1.reset_index().drop(\"index\",axis=1)"
   ]
  },
  {
   "cell_type": "code",
   "execution_count": 44,
   "id": "0597ff97",
   "metadata": {},
   "outputs": [],
   "source": [
    "df3=pd.concat([df3,y1],axis=1)"
   ]
  },
  {
   "cell_type": "markdown",
   "id": "7cf07893",
   "metadata": {},
   "source": [
    "### Splitting Data+ K-fold validation"
   ]
  },
  {
   "cell_type": "code",
   "execution_count": 45,
   "id": "334edaf7",
   "metadata": {},
   "outputs": [],
   "source": [
    "from sklearn.model_selection import KFold"
   ]
  },
  {
   "cell_type": "markdown",
   "id": "6a6c4428",
   "metadata": {},
   "source": [
    "### SVM"
   ]
  },
  {
   "cell_type": "code",
   "execution_count": 46,
   "id": "bed51bcc",
   "metadata": {},
   "outputs": [
    {
     "name": "stdout",
     "output_type": "stream",
     "text": [
      "accuracy of each fold - [0.9039088791095004, 0.9035982397100699, 0.8994046078177582, 0.9065962514238376, 0.8967588277933105]\n",
      "Avg accuracy : 0.9020533611708954\n",
      "precision of each fold - [0.9143760262193767, 0.9145748307516831, 0.9116020452074605, 0.917012452670593, 0.9088269576562382]\n",
      "Avg precision : 0.9132784625010704\n"
     ]
    }
   ],
   "source": [
    "from sklearn.svm import SVC\n",
    "k = 5\n",
    "kf = KFold(n_splits=k, random_state=None)\n",
    "model = SVC()\n",
    " \n",
    "acc_score = []\n",
    "pre_score= []\n",
    "for train_index , test_index in kf.split(df3):\n",
    "    X_train , X_test = df3.iloc[train_index,:-1],df3.iloc[test_index,:-1]\n",
    "    y_train , y_test = df3.iloc[train_index,10] , df3.iloc[test_index,10]\n",
    "     \n",
    "    model.fit(X_train,y_train)\n",
    "    pred_values = model.predict(X_test)\n",
    "     \n",
    "    acc = accuracy_score(pred_values , y_test)\n",
    "    acc_score.append(acc)\n",
    "    pre = precision_score(pred_values , y_test,average='weighted')\n",
    "    pre_score.append(pre)\n",
    "     \n",
    "avg_acc_score = sum(acc_score)/k\n",
    "avg_pre_score = sum(pre_score)/k  \n",
    "print('accuracy of each fold - {}'.format(acc_score))\n",
    "print('Avg accuracy : {}'.format(avg_acc_score))\n",
    "print('precision of each fold - {}'.format(pre_score))\n",
    "print('Avg precision : {}'.format(avg_pre_score))"
   ]
  },
  {
   "attachments": {},
   "cell_type": "markdown",
   "id": "963ef744",
   "metadata": {},
   "source": [
    "SVM"
   ]
  },
  {
   "cell_type": "code",
   "execution_count": 47,
   "id": "43726f29",
   "metadata": {},
   "outputs": [
    {
     "data": {
      "text/plain": [
       "array([[6396,    0,   88],\n",
       "       [ 808, 4918,  711],\n",
       "       [   3,  384, 6006]], dtype=int64)"
      ]
     },
     "execution_count": 47,
     "metadata": {},
     "output_type": "execute_result"
    }
   ],
   "source": [
    "confusion_matrix(y_test, pred_values)  "
   ]
  },
  {
   "cell_type": "markdown",
   "id": "cc0604f5",
   "metadata": {},
   "source": [
    "### Decision Tree"
   ]
  },
  {
   "cell_type": "code",
   "execution_count": 48,
   "id": "41cbee09",
   "metadata": {
    "scrolled": true
   },
   "outputs": [
    {
     "name": "stdout",
     "output_type": "stream",
     "text": [
      "<class 'pandas.core.frame.DataFrame'>\n",
      "RangeIndex: 96573 entries, 0 to 96572\n",
      "Data columns (total 11 columns):\n",
      " #   Column              Non-Null Count  Dtype\n",
      "---  ------              --------------  -----\n",
      " 0   weather             96573 non-null  int64\n",
      " 1   光線                  96573 non-null  int64\n",
      " 2   道路型態                96573 non-null  int64\n",
      " 3   路面狀況2               96573 non-null  int64\n",
      " 4   號誌2                 96573 non-null  int64\n",
      " 5   車道劃分-分道2            96573 non-null  int64\n",
      " 6   type of accidients  96573 non-null  int64\n",
      " 7   Major part of inj   96573 non-null  int64\n",
      " 8   駕駛資格情形              96573 non-null  int64\n",
      " 9   part of collision   96573 non-null  int64\n",
      " 10  受傷程度                96573 non-null  int64\n",
      "dtypes: int64(11)\n",
      "memory usage: 8.1 MB\n"
     ]
    }
   ],
   "source": [
    "df3=df3.rename(columns={\"主要傷處\":\"Major part of inj\",\"車輛撞擊部位1\":\"part of collision\",\"天候\":\"weather\",\"事故類型及型態\":\"type of accidients\"})\n",
    "df3.info()"
   ]
  },
  {
   "cell_type": "code",
   "execution_count": 49,
   "id": "6989f528",
   "metadata": {
    "scrolled": false
   },
   "outputs": [
    {
     "name": "stdout",
     "output_type": "stream",
     "text": [
      "accuracy of each fold - [0.9316075588920528, 0.9319699715247217, 0.9278798860988868, 0.9345034689862276, 0.9279797038417729]\n",
      "Avg accuracy : 0.9307881178687323\n",
      "precision of each fold - [0.9373918803963186, 0.9375910210422695, 0.9341576305618878, 0.940084843560417, 0.9347044910867809]\n",
      "Avg precision : 0.9367859733295347\n"
     ]
    }
   ],
   "source": [
    "from sklearn.tree import DecisionTreeClassifier\n",
    "k = 5\n",
    "kf = KFold(n_splits=k, random_state=None)\n",
    "model = DecisionTreeClassifier(criterion = 'gini', random_state=42)\n",
    " \n",
    "acc_score = []\n",
    "pre_score= []\n",
    "for train_index , test_index in kf.split(df3):\n",
    "    X_train , X_test = df3.iloc[train_index,:-1],df3.iloc[test_index,:-1]\n",
    "    y_train , y_test = df3.iloc[train_index,10] , df3.iloc[test_index,10]\n",
    "     \n",
    "    model.fit(X_train,y_train)\n",
    "    pred_values = model.predict(X_test)\n",
    "     \n",
    "    acc = accuracy_score(pred_values , y_test)\n",
    "    acc_score.append(acc)\n",
    "    pre = precision_score(pred_values , y_test,average='weighted')\n",
    "    pre_score.append(pre)\n",
    "     \n",
    "avg_acc_score = sum(acc_score)/k\n",
    "avg_pre_score = sum(pre_score)/k  \n",
    "print('accuracy of each fold - {}'.format(acc_score))\n",
    "print('Avg accuracy : {}'.format(avg_acc_score))\n",
    "print('precision of each fold - {}'.format(pre_score))\n",
    "print('Avg precision : {}'.format(avg_pre_score))"
   ]
  },
  {
   "attachments": {},
   "cell_type": "markdown",
   "id": "26435f0e",
   "metadata": {},
   "source": [
    "DT"
   ]
  },
  {
   "cell_type": "code",
   "execution_count": 50,
   "id": "a463ef9e",
   "metadata": {},
   "outputs": [
    {
     "data": {
      "text/plain": [
       "array([[6370,   60,   54],\n",
       "       [ 692, 5337,  408],\n",
       "       [   3,  174, 6216]], dtype=int64)"
      ]
     },
     "execution_count": 50,
     "metadata": {},
     "output_type": "execute_result"
    }
   ],
   "source": [
    "confusion_matrix(y_test, pred_values)  "
   ]
  },
  {
   "cell_type": "markdown",
   "id": "0c9ea554",
   "metadata": {},
   "source": [
    "### LogisticRegression"
   ]
  },
  {
   "cell_type": "code",
   "execution_count": 51,
   "id": "fe27156a",
   "metadata": {},
   "outputs": [
    {
     "name": "stdout",
     "output_type": "stream",
     "text": [
      "accuracy of each fold - [0.6737768573647425, 0.6673569764431789, 0.6612995081542843, 0.6672879776328052, 0.664336750543647]\n",
      "Avg accuracy : 0.6668116140277316\n",
      "precision of each fold - [0.7012364722325579, 0.692691696145508, 0.6873960774174636, 0.6943281911790863, 0.6887041802725157]\n",
      "Avg precision : 0.6928713234494264\n"
     ]
    }
   ],
   "source": [
    "k = 5\n",
    "kf = KFold(n_splits=k, random_state=None)\n",
    "model = LogisticRegression(solver='lbfgs', max_iter=1000)\n",
    " \n",
    "acc_score = []\n",
    "pre_score= []\n",
    "for train_index , test_index in kf.split(df3):\n",
    "    X_train , X_test = df3.iloc[train_index,:-1],df3.iloc[test_index,:-1]\n",
    "    y_train , y_test = df3.iloc[train_index,10] , df3.iloc[test_index,10]\n",
    "     \n",
    "    model.fit(X_train,y_train)\n",
    "    pred_values = model.predict(X_test)\n",
    "     \n",
    "    acc = accuracy_score(pred_values , y_test)\n",
    "    acc_score.append(acc)\n",
    "    pre = precision_score(pred_values , y_test,average='weighted')\n",
    "    pre_score.append(pre)\n",
    "     \n",
    "avg_acc_score = sum(acc_score)/k\n",
    "avg_pre_score = sum(pre_score)/k  \n",
    "print('accuracy of each fold - {}'.format(acc_score))\n",
    "print('Avg accuracy : {}'.format(avg_acc_score))\n",
    "print('precision of each fold - {}'.format(pre_score))\n",
    "print('Avg precision : {}'.format(avg_pre_score))"
   ]
  },
  {
   "attachments": {},
   "cell_type": "markdown",
   "id": "2ca391da",
   "metadata": {},
   "source": [
    "Logi"
   ]
  },
  {
   "cell_type": "code",
   "execution_count": 52,
   "id": "d0af9b04",
   "metadata": {},
   "outputs": [
    {
     "data": {
      "text/plain": [
       "array([[5555,    2,  927],\n",
       "       [ 861, 4257, 1319],\n",
       "       [1385, 1989, 3019]], dtype=int64)"
      ]
     },
     "execution_count": 52,
     "metadata": {},
     "output_type": "execute_result"
    }
   ],
   "source": [
    "confusion_matrix(y_test, pred_values)  "
   ]
  },
  {
   "cell_type": "markdown",
   "id": "a470e5c8",
   "metadata": {},
   "source": [
    "### RandomForest"
   ]
  },
  {
   "cell_type": "code",
   "execution_count": 53,
   "id": "a692c144",
   "metadata": {},
   "outputs": [
    {
     "name": "stdout",
     "output_type": "stream",
     "text": [
      "accuracy of each fold - [0.9324359306238674, 0.9325912503235827, 0.9282422987315558, 0.9340374857616237, 0.9279797038417729]\n",
      "Avg accuracy : 0.9310573338564805\n",
      "precision of each fold - [0.9381562332061851, 0.9381722799022729, 0.934571883537814, 0.939617392588096, 0.9344378238948859]\n",
      "Avg precision : 0.9369911226258507\n"
     ]
    }
   ],
   "source": [
    "from sklearn.ensemble import RandomForestClassifier\n",
    "k = 5\n",
    "kf = KFold(n_splits=k, random_state=None)\n",
    "model = RandomForestClassifier(n_estimators= 100, criterion= 'gini', max_depth= None)\n",
    " \n",
    "acc_score = []\n",
    "pre_score= []\n",
    "for train_index , test_index in kf.split(df3):\n",
    "    X_train , X_test = df3.iloc[train_index,:-1],df3.iloc[test_index,:-1]\n",
    "    y_train , y_test = df3.iloc[train_index,10] , df3.iloc[test_index,10]\n",
    "     \n",
    "    model.fit(X_train,y_train)\n",
    "    pred_values = model.predict(X_test)\n",
    "     \n",
    "    acc = accuracy_score(pred_values , y_test)\n",
    "    acc_score.append(acc)\n",
    "    pre = precision_score(pred_values , y_test,average='weighted')\n",
    "    pre_score.append(pre)\n",
    "   \n",
    "avg_acc_score = sum(acc_score)/k\n",
    "avg_pre_score = sum(pre_score)/k  \n",
    "print('accuracy of each fold - {}'.format(acc_score))\n",
    "print('Avg accuracy : {}'.format(avg_acc_score))\n",
    "print('precision of each fold - {}'.format(pre_score))\n",
    "print('Avg precision : {}'.format(avg_pre_score))"
   ]
  },
  {
   "attachments": {},
   "cell_type": "markdown",
   "id": "1f83e903",
   "metadata": {},
   "source": [
    "RF"
   ]
  },
  {
   "cell_type": "code",
   "execution_count": 54,
   "id": "19ce546a",
   "metadata": {},
   "outputs": [
    {
     "data": {
      "text/plain": [
       "array([[6361,   69,   54],\n",
       "       [ 687, 5347,  403],\n",
       "       [   3,  175, 6215]], dtype=int64)"
      ]
     },
     "execution_count": 54,
     "metadata": {},
     "output_type": "execute_result"
    }
   ],
   "source": [
    "confusion_matrix(y_test, pred_values)  "
   ]
  },
  {
   "cell_type": "markdown",
   "id": "e4dde011",
   "metadata": {},
   "source": [
    "### coefficient"
   ]
  },
  {
   "cell_type": "code",
   "execution_count": 55,
   "id": "989b687f",
   "metadata": {},
   "outputs": [],
   "source": [
    "import statsmodels.api as sm"
   ]
  },
  {
   "cell_type": "code",
   "execution_count": 56,
   "id": "b8fd3285",
   "metadata": {},
   "outputs": [
    {
     "name": "stdout",
     "output_type": "stream",
     "text": [
      "Warning: Maximum number of iterations has been exceeded.\n",
      "         Current function value: 0.015113\n",
      "         Iterations: 35\n",
      "         Function evaluations: 38\n",
      "         Gradient evaluations: 38\n"
     ]
    },
    {
     "name": "stderr",
     "output_type": "stream",
     "text": [
      "c:\\Users\\linti\\anaconda3\\lib\\site-packages\\statsmodels\\base\\model.py:604: ConvergenceWarning: Maximum Likelihood optimization failed to converge. Check mle_retvals\n",
      "  warnings.warn(\"Maximum Likelihood optimization failed to \"\n"
     ]
    },
    {
     "name": "stdout",
     "output_type": "stream",
     "text": [
      "                          MNLogit Regression Results                          \n",
      "==============================================================================\n",
      "Dep. Variable:                   受傷程度   No. Observations:                77258\n",
      "Model:                        MNLogit   Df Residuals:                    77236\n",
      "Method:                           MLE   Df Model:                           20\n",
      "Date:                Sat, 07 Jan 2023   Pseudo R-squ.:                  0.9862\n",
      "Time:                        20:49:58   Log-Likelihood:                -1167.6\n",
      "converged:                      False   LL-Null:                       -84876.\n",
      "Covariance Type:            nonrobust   LLR p-value:                     0.000\n",
      "======================================================================================\n",
      "            受傷程度=1       coef    std err          z      P>|z|      [0.025      0.975]\n",
      "--------------------------------------------------------------------------------------\n",
      "weather                1.0349      0.392      2.640      0.008       0.267       1.803\n",
      "光線                     1.8862      0.327      5.775      0.000       1.246       2.526\n",
      "道路型態                   0.3634      0.153      2.383      0.017       0.064       0.662\n",
      "路面狀況2                  7.1234      1.255      5.678      0.000       4.664       9.582\n",
      "號誌2                   -1.1313      0.316     -3.580      0.000      -1.751      -0.512\n",
      "車道劃分-分道2               7.0782      0.882      8.029      0.000       5.350       8.806\n",
      "type of accidients     0.5883      0.092      6.370      0.000       0.407       0.769\n",
      "Major part of inj    -14.7182      1.341    -10.977      0.000     -17.346     -12.090\n",
      "駕駛資格情形                 4.5508      0.479      9.495      0.000       3.611       5.490\n",
      "part of collision     -1.0439      0.195     -5.365      0.000      -1.425      -0.663\n",
      "受傷程度                  34.8952      3.174     10.995      0.000      28.675      41.115\n",
      "--------------------------------------------------------------------------------------\n",
      "            受傷程度=2       coef    std err          z      P>|z|      [0.025      0.975]\n",
      "--------------------------------------------------------------------------------------\n",
      "weather               -2.4111      1.123     -2.148      0.032      -4.611      -0.211\n",
      "光線                    -0.1728      0.578     -0.299      0.765      -1.306       0.961\n",
      "道路型態                  -1.1194      0.214     -5.223      0.000      -1.539      -0.699\n",
      "路面狀況2                 -5.7001      3.582     -1.591      0.112     -12.721       1.321\n",
      "號誌2                   -7.3884      1.092     -6.768      0.000      -9.528      -5.249\n",
      "車道劃分-分道2             -11.8519      4.213     -2.813      0.005     -20.110      -3.594\n",
      "type of accidients     0.7058      0.112      6.276      0.000       0.485       0.926\n",
      "Major part of inj    -21.5979      1.939    -11.138      0.000     -25.398     -17.797\n",
      "駕駛資格情形                 5.8476      0.495     11.823      0.000       4.878       6.817\n",
      "part of collision     -2.2026      0.239     -9.234      0.000      -2.670      -1.735\n",
      "受傷程度                  83.9549      8.922      9.410      0.000      66.468     101.442\n",
      "======================================================================================\n"
     ]
    }
   ],
   "source": [
    "train_x,test_x,train_y,test_y=train_test_split(df3,y1,test_size=0.2,random_state=42)\n",
    "logit_model=sm.MNLogit(train_y, train_x)\n",
    "logit_model\n",
    "result=logit_model.fit(method=\"bfgs\")\n",
    "stats1=result.summary()\n",
    "\n",
    "\n",
    "print(stats1)\n"
   ]
  },
  {
   "cell_type": "code",
   "execution_count": null,
   "id": "adcaa369",
   "metadata": {},
   "outputs": [],
   "source": []
  },
  {
   "cell_type": "code",
   "execution_count": null,
   "id": "5923a591",
   "metadata": {},
   "outputs": [],
   "source": []
  }
 ],
 "metadata": {
  "kernelspec": {
   "display_name": "base",
   "language": "python",
   "name": "python3"
  },
  "language_info": {
   "codemirror_mode": {
    "name": "ipython",
    "version": 3
   },
   "file_extension": ".py",
   "mimetype": "text/x-python",
   "name": "python",
   "nbconvert_exporter": "python",
   "pygments_lexer": "ipython3",
   "version": "3.9.13"
  },
  "vscode": {
   "interpreter": {
    "hash": "fe867e19826a30d6e7cf4b98cf2be4fe08e5a7215a9691ff3004b0392bba9db7"
   }
  }
 },
 "nbformat": 4,
 "nbformat_minor": 5
}
